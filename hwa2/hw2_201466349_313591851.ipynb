{
 "cells": [
  {
   "cell_type": "markdown",
   "metadata": {
    "nbgrader": {
     "grade": false,
     "grade_id": "cell-6bd0516e7cb654f5",
     "locked": true,
     "schema_version": 1,
     "solution": false
    }
   },
   "source": [
    "# Exercise 2: Decision Trees\n",
    "\n",
    "In this assignment you will implement a Decision Tree algorithm as learned in class.\n",
    "\n",
    "## Read the following instructions carefully:\n",
    "\n",
    "1. This jupyter notebook contains all the step by step instructions needed for this exercise.\n",
    "1. Submission includes this notebook only with the exercise number and your ID as the filename. For example: `hw2_123456789_987654321.ipynb` if you submitted in pairs and `hw2_123456789.ipynb` if you submitted the exercise alone.\n",
    "1. Write **efficient vectorized** code whenever possible. Some calculations in this exercise take several minutes when implemented efficiently, and might take much longer otherwise. Unnecessary loops will result in point deduction.\n",
    "1. You are responsible for the correctness of your code and should add as many tests as you see fit. Tests will not be graded nor checked.\n",
    "1. Write your functions in this notebook only. **Do not create Python modules and import them**.\n",
    "1. You are allowed to use functions and methods from the [Python Standard Library](https://docs.python.org/3/library/) and [numpy](https://www.numpy.org/devdocs/reference/) only. **Do not import anything else.**\n",
    "1. Your code must run without errors. Make sure your `numpy` version is at least 1.15.4 and that you are using at least python 3.6. Changes of the configuration we provided are at your own risk. Any code that cannot run will not be graded.\n",
    "1. Write your own code. Cheating will not be tolerated.\n",
    "1. Answers to qualitative questions should be written in **markdown** cells (with $\\LaTeX$ support). Answers that will be written in commented code blocks will not be checked.\n",
    "\n",
    "## In this exercise you will perform the following:\n",
    "1. Practice OOP in python.\n",
    "2. Implement two impurity measures: Gini and Entropy.\n",
    "3. Construct a decision tree algorithm.\n",
    "4. Prune the tree to achieve better results.\n",
    "5. Visualize your results."
   ]
  },
  {
   "cell_type": "markdown",
   "metadata": {},
   "source": [
    "# I have read and understood the instructions: 201466349, 313591851"
   ]
  },
  {
   "cell_type": "code",
   "execution_count": 773,
   "metadata": {
    "nbgrader": {
     "grade": false,
     "grade_id": "cell-ed9fe7b1026e33cb",
     "locked": true,
     "schema_version": 1,
     "solution": false
    }
   },
   "outputs": [],
   "source": [
    "import numpy as np\n",
    "import pandas as pd\n",
    "import matplotlib.pyplot as plt\n",
    "\n",
    "# make matplotlib figures appear inline in the notebook\n",
    "%matplotlib inline\n",
    "plt.rcParams['figure.figsize'] = (10.0, 8.0)  # set default size of plots\n",
    "plt.rcParams['image.interpolation'] = 'nearest'\n",
    "plt.rcParams['image.cmap'] = 'gray'\n",
    "\n",
    "# Ignore warnings\n",
    "import warnings\n",
    "\n",
    "warnings.filterwarnings('ignore')"
   ]
  },
  {
   "cell_type": "markdown",
   "metadata": {
    "nbgrader": {
     "grade": false,
     "grade_id": "cell-c6ac605270c2b091",
     "locked": true,
     "schema_version": 1,
     "solution": false
    }
   },
   "source": [
    "## Warmup - OOP in python\n",
    "\n",
    "Our desicion tree will be implemented using a dedicated python class. Python classes are very similar to classes in Java.\n",
    "\n",
    "\n",
    "You can use the following [site](https://jeffknupp.com/blog/2014/06/18/improve-your-python-python-classes-and-object-oriented-programming/) to learn about classes in python."
   ]
  },
  {
   "cell_type": "code",
   "execution_count": 774,
   "metadata": {},
   "outputs": [],
   "source": [
    "class Node(object):\n",
    "    def __init__(self, data):\n",
    "        self.data = data\n",
    "        self.children = []\n",
    "\n",
    "    def add_child(self, node):\n",
    "        self.children.append(node)\n",
    "\n",
    "    def __repr__(self):\n",
    "        return str(self.data)"
   ]
  },
  {
   "cell_type": "code",
   "execution_count": 775,
   "metadata": {},
   "outputs": [
    {
     "data": {
      "text/plain": "[6, 7]"
     },
     "execution_count": 775,
     "metadata": {},
     "output_type": "execute_result"
    }
   ],
   "source": [
    "n = Node(5)\n",
    "p = Node(6)\n",
    "q = Node(7)\n",
    "n.add_child(p)\n",
    "n.add_child(q)\n",
    "n.children"
   ]
  },
  {
   "cell_type": "markdown",
   "metadata": {
    "nbgrader": {
     "grade": false,
     "grade_id": "cell-2f1ceb251c649b62",
     "locked": true,
     "schema_version": 1,
     "solution": false
    }
   },
   "source": [
    "## Data preprocessing\n",
    "\n",
    "For the following exercise, we will use a dataset containing mushroom data `agaricus-lepiota.csv`. \n",
    "\n",
    "This data set includes descriptions of hypothetical samples corresponding to 23 species of gilled mushrooms in the Agaricus and Lepiota Family. Each species is identified as definitely edible, definitely poisonous, or of unknown edibility and not recommended. This latter class was combined with the poisonous\n",
    "one (=there are only two classes **edible** and **poisonous**). \n",
    "    \n",
    "The dataset contains 8124 observations with 22 features:\n",
    "1. cap-shape: bell=b,conical=c,convex=x,flat=f,knobbed=k,sunken=s\n",
    "2. cap-surface: fibrous=f,grooves=g,scaly=y,smooth=s\n",
    "3. cap-color: brown=n,buff=b,cinnamon=c,gray=g,green=r,pink=p,purple=u,red=e,white=w,yellow=y\n",
    "4. bruises: bruises=t,no=f\n",
    "5. odor: almond=a,anise=l,creosote=c,fishy=y,foul=f, musty=m,none=n,pungent=p,spicy=s\n",
    "6. gill-attachment: attached=a,descending=d,free=f,notched=n\n",
    "7. gill-spacing: close=c,crowded=w,distant=d\n",
    "8. gill-size: broad=b,narrow=n\n",
    "9. gill-color: black=k,brown=n,buff=b,chocolate=h,gray=g,green=r,orange=o,pink=p,purple=u,red=e,white=w,yellow=y\n",
    "10. stalk-shape: enlarging=e,tapering=t\n",
    "11. stalk-root: bulbous=b,club=c,cup=u,equal=e,rhizomorphs=z,rooted=r\n",
    "12. stalk-surface-above-ring: fibrous=f,scaly=y,silky=k,smooth=s\n",
    "13. stalk-surface-below-ring: fibrous=f,scaly=y,silky=k,smooth=s\n",
    "14. stalk-color-above-ring: brown=n,buff=b,cinnamon=c,gray=g,orange=o,pink=p,red=e,white=w,yellow=y\n",
    "15. stalk-color-below-ring: brown=n,buff=b,cinnamon=c,gray=g,orange=o,pink=p,red=e,white=w,yellow=y\n",
    "16. veil-type: partial=p,universal=u\n",
    "17. veil-color: brown=n,orange=o,white=w,yellow=y\n",
    "18. ring-number: none=n,one=o,two=t\n",
    "19. ring-type: cobwebby=c,evanescent=e,flaring=f,large=l,none=n,pendant=p,sheathing=s,zone=z\n",
    "20. spore-print-color: black=k,brown=n,buff=b,chocolate=h,green=r,orange=o,purple=u,white=w,yellow=y\n",
    "21. population: abundant=a,clustered=c,numerous=n,scattered=s,several=v,solitary=y\n",
    "22. habitat: grasses=g,leaves=l,meadows=m,paths=p,urban=u,waste=w,woods=d\n",
    "\n",
    "First, we will read and explore the data using pandas and the `.read_csv` method. Pandas is an open source library providing high-performance, easy-to-use data structures and data analysis tools for the Python programming language."
   ]
  },
  {
   "cell_type": "code",
   "execution_count": 776,
   "metadata": {
    "nbgrader": {
     "grade": false,
     "grade_id": "cell-d79cb4542926ad3f",
     "locked": true,
     "schema_version": 1,
     "solution": false
    }
   },
   "outputs": [],
   "source": [
    "# load dataset\n",
    "data = pd.read_csv('agaricus-lepiota.csv')"
   ]
  },
  {
   "cell_type": "markdown",
   "metadata": {},
   "source": [
    "One of the advantages of the Decision Tree algorithm is that almost no preprocessing is required. However, finding missing values is always required."
   ]
  },
  {
   "cell_type": "code",
   "execution_count": 777,
   "metadata": {},
   "outputs": [],
   "source": [
    "#############################################################################\n",
    "# TODO: Find columns with missing values and remove them from the data.#\n",
    "#############################################################################\n",
    "data = data.dropna(axis=1)\n",
    "#############################################################################\n",
    "#                             END OF YOUR CODE                              #\n",
    "#############################################################################"
   ]
  },
  {
   "cell_type": "markdown",
   "metadata": {},
   "source": [
    "We will split the dataset to `Training` and `Testing` datasets."
   ]
  },
  {
   "cell_type": "code",
   "execution_count": 778,
   "metadata": {},
   "outputs": [
    {
     "name": "stdout",
     "output_type": "stream",
     "text": [
      "Training dataset shape:  (6093, 22)\n",
      "Testing dataset shape:  (2031, 22)\n"
     ]
    }
   ],
   "source": [
    "from sklearn.model_selection import train_test_split\n",
    "\n",
    "# Making sure the last column will hold the labels\n",
    "X, y = data.drop('class', axis=1), data['class']\n",
    "X = np.column_stack([X, y])\n",
    "# split dataset using random_state to get the same split each time\n",
    "X_train, X_test = train_test_split(X, random_state=99)\n",
    "\n",
    "print(\"Training dataset shape: \", X_train.shape)\n",
    "print(\"Testing dataset shape: \", X_test.shape)"
   ]
  },
  {
   "cell_type": "code",
   "execution_count": 779,
   "metadata": {},
   "outputs": [
    {
     "data": {
      "text/plain": "(8124,)"
     },
     "execution_count": 779,
     "metadata": {},
     "output_type": "execute_result"
    }
   ],
   "source": [
    "y.shape"
   ]
  },
  {
   "cell_type": "markdown",
   "metadata": {
    "nbgrader": {
     "grade": false,
     "grade_id": "cell-fd7b0191f3f1e897",
     "locked": true,
     "schema_version": 1,
     "solution": false
    }
   },
   "source": [
    "## Impurity Measures\n",
    "\n",
    "Impurity is a measure of how often a randomly chosen element from the set would be incorrectly labeled if it was randomly labeled according to the distribution of labels in the subset. Implement the functions `calc_gini` and `calc_entropy`. You are encouraged to test your implementation (10 points)."
   ]
  },
  {
   "cell_type": "code",
   "execution_count": 780,
   "metadata": {},
   "outputs": [],
   "source": [
    "def calc_gini(data):\n",
    "    \"\"\"\n",
    "    Calculate gini impurity measure of a dataset.\n",
    " \n",
    "    Input:\n",
    "    - data: any dataset where the last column holds the labels.\n",
    " \n",
    "    Returns the gini impurity.    \n",
    "    \"\"\"\n",
    "    gini = 0.0\n",
    "    ###########################################################################\n",
    "    # TODO: Implement the function.                                           #\n",
    "    ###########################################################################\n",
    "    y = data if data.ndim == 1 else data[:, -1]\n",
    "    s = len(y)\n",
    "    s_i = np.unique(y, return_counts=True)[1]\n",
    "    gini = 1 - np.sum((s_i / s) ** 2)\n",
    "    ###########################################################################\n",
    "    #                             END OF YOUR CODE                            #\n",
    "    ###########################################################################\n",
    "    return gini"
   ]
  },
  {
   "cell_type": "code",
   "execution_count": 781,
   "metadata": {},
   "outputs": [],
   "source": [
    "def calc_entropy(data):\n",
    "    \"\"\"\n",
    "    Calculate the entropy of a dataset.\n",
    "\n",
    "    Input:\n",
    "    - data: any dataset where the last column holds the labels.\n",
    "\n",
    "    Returns the entropy of the dataset.    \n",
    "    \"\"\"\n",
    "    entropy = 0.0\n",
    "    ###########################################################################\n",
    "    # TODO: Implement the function.                                           #\n",
    "    ###########################################################################\n",
    "    y = data if data.ndim == 1 else data[:, -1]\n",
    "    s = len(y)\n",
    "    s_i = np.unique(y, return_counts=True)[1]\n",
    "    entropy = np.sum(-(s_i / s) * np.log2(s_i / s))\n",
    "    ###########################################################################\n",
    "    #                             END OF YOUR CODE                            #\n",
    "    ###########################################################################\n",
    "    return entropy"
   ]
  },
  {
   "cell_type": "code",
   "execution_count": 782,
   "metadata": {
    "scrolled": true
   },
   "outputs": [],
   "source": [
    "##### Your Tests Here #####\n",
    "eps = 10 ** -6\n",
    "assert np.abs(calc_entropy(X[:3, :]) - 0.9182958340544896) < eps\n",
    "assert np.abs(calc_gini(X[:3, :]) - 4 / 9) < eps"
   ]
  },
  {
   "cell_type": "markdown",
   "metadata": {},
   "source": [
    "## Goodness of Split\n",
    "\n",
    "Given a feature the Goodnees of Split measures the reduction in the impurity if we split the data according to the feature.\n",
    "$$\n",
    "\\Delta\\varphi(S, A) = \\varphi(S) - \\sum_{v\\in Values(A)} \\frac{|S_v|}{|S|}\\varphi(S_v)\n",
    "$$\n",
    "\n",
    "In our implementation the goodness_of_split function will return either the Goodness of Split or the Gain Ratio as learned in class. You'll control the return value with the `gain_ratio` parameter. If this parameter will set to False (the default value) it will return the regular Goodness of Split. If it will set to True it will return the Gain Ratio.\n",
    "$$\n",
    "GainRatio(S,A)=\\frac{InformationGain(S,A)}{SplitInformation(S,A)}\n",
    "$$\n",
    "Where:\n",
    "$$\n",
    "InformationGain(S,A)=Goodness\\ of\\ Split\\ calculated\\ with\\ Entropy\\ as\\ the\\ Impurity\\ function \\\\\n",
    "SplitInformation(S,A)=- \\sum_{a\\in A} \\frac{|S_a|}{|S|}\\log\\frac{|S_a|}{|S|}\n",
    "$$\n",
    "NOTE: you can add more parameters to the function and you can also add more returning variables (The given parameters and the given returning variable should not be touch). (10 Points)"
   ]
  },
  {
   "cell_type": "code",
   "execution_count": 783,
   "metadata": {},
   "outputs": [],
   "source": [
    "def goodness_of_split(data, feature, impurity_func, gain_ratio=False):\n",
    "    \"\"\"\n",
    "    Calculate the goodness of split of a dataset given a feature and impurity function.\n",
    "\n",
    "    Input:\n",
    "    - data: any dataset where the last column holds the labels.\n",
    "    - feature: the feature index.\n",
    "    - impurity func: a function that calculates the impurity.\n",
    "    - gain_ratio: goodness of split or gain ratio flag.\n",
    "\n",
    "    Returns the goodness of split (or the Gain Ration).  \n",
    "    \"\"\"\n",
    "    ###########################################################################\n",
    "    # TODO: Implement the function.                                           #\n",
    "    ###########################################################################\n",
    "    split_information = 1\n",
    "    if gain_ratio:\n",
    "        impurity_func = calc_entropy  # Forcing the impurity to be entropy\n",
    "        # Calculate the split_info is similar to calculating \"entropy\"\n",
    "        # of the feature col, using the feature values as \"classes\"\n",
    "        split_information = calc_entropy(data[:, feature])\n",
    "\n",
    "    data = pd.DataFrame(data)\n",
    "\n",
    "    phi_S = impurity_func(data.values)\n",
    "\n",
    "    Sv = data[feature].value_counts()\n",
    "    S = data.shape[0]\n",
    "    w_Sv = Sv / S  # the weight of each feature value v in the wighted-sum\n",
    "\n",
    "    # next we split the dataframe into k parts, and calculate each part's impurity w.r. to c\n",
    "    C = data.columns[-1]\n",
    "    phi_Sv = data.groupby(feature).agg(\n",
    "        {C: lambda x: impurity_func(x.values)}\n",
    "    )\n",
    "\n",
    "    # we match the weights of v in `feature` to the right impurity value\n",
    "    merged = pd.merge(w_Sv, phi_Sv, left_index=True, right_index=True)\n",
    "\n",
    "    goodness = phi_S - np.dot(merged.iloc[:, 0].values, merged.iloc[:, 1])\n",
    "    ###########################################################################\n",
    "    #                             END OF YOUR CODE                            #\n",
    "    ###########################################################################\n",
    "    return goodness / split_information"
   ]
  },
  {
   "cell_type": "markdown",
   "metadata": {},
   "source": [
    "## Building a Decision Tree\n",
    "\n",
    "Use a Python class to construct the decision tree. Your class should support the following functionality:\n",
    "\n",
    "1. Initiating a node for a decision tree. You will need to use several class methods and class attributes and you are free to use them as you see fit. We recommend that every node will hold the feature and value used for the split and its children.\n",
    "2. Your code should support both Gini and Entropy as impurity measures. \n",
    "3. The provided data includes categorical data. In this exercise, when splitting a node create the number of children needed according to the attribute unique values.\n",
    "\n",
    "Complete the class `DecisionNode`. The structure of this class is entirely up to you. \n",
    "\n",
    "Complete the function `build_tree`. This function should get the training dataset and the impurity as inputs, initiate a root for the decision tree and construct the tree according to the procedure you learned in class. (30 points)"
   ]
  },
  {
   "cell_type": "code",
   "execution_count": 784,
   "metadata": {},
   "outputs": [],
   "source": [
    "class DecisionNode:\n",
    "    \"\"\"\n",
    "    This class will hold everything you require to construct a decision tree.\n",
    "    The structure of this class is up to you. However, you need to support basic \n",
    "    functionality as described above. It is highly recommended that you \n",
    "    first read and understand the entire exercise before diving into this class.\n",
    "    \"\"\"\n",
    "\n",
    "    def __init__(self, remaining_features, data, impurity, gain_ratio, min_samples_split, max_depth, feature_val=None):\n",
    "        data_df = pd.DataFrame(data)\n",
    "        self.__feature_val = feature_val  # the value of the ancestor's feature split. None for root\n",
    "        self.__most_common_label = data_df.iloc[:, -1].mode()[0]  # return the most common label in `data`\n",
    "        self.__is_leaf = self.is_pure(data) or self.reached_max_depth(max_depth) or self.reached_min_sample_split(data, min_samples_split)\n",
    "\n",
    "        if self.__is_leaf:\n",
    "            self.__children = None\n",
    "            self.__labels_count = self.get_labels_count(data)\n",
    "        else:\n",
    "            self.__children = []\n",
    "            self.__feature, remaining_features = self.get_best_split(data, remaining_features, impurity, gain_ratio)\n",
    "            for f_val in data_df[self.__feature].unique():\n",
    "                self.add_child(\n",
    "                    node=DecisionNode(\n",
    "                        feature_val=(self.__feature, f_val),\n",
    "                        remaining_features=remaining_features,\n",
    "                        data=data_df.loc[data_df[self.__feature] == f_val].values,\n",
    "                        impurity=impurity,\n",
    "                        gain_ratio=gain_ratio,\n",
    "                        min_samples_split=min_samples_split,\n",
    "                        max_depth=max_depth - 1\n",
    "                    )\n",
    "                )\n",
    "\n",
    "    @property\n",
    "    def is_leaf(self):\n",
    "        return self.__is_leaf\n",
    "\n",
    "    @property\n",
    "    def children(self):\n",
    "        return self.__children\n",
    "\n",
    "    def add_child(self, node):\n",
    "        self.__children.append(node)\n",
    "\n",
    "    def predict(self, instance):\n",
    "        if self.__is_leaf:\n",
    "            return self.__most_common_label\n",
    "        else:\n",
    "            f_val = instance[self.__feature]\n",
    "            for child in self.__children:\n",
    "                if child.__feature_val[1] == f_val:\n",
    "                    return child.predict(instance)\n",
    "        return self.__most_common_label\n",
    "\n",
    "    def __repr__(self):\n",
    "        if self.__is_leaf:\n",
    "            return f'[X{self.__feature_val[0]}={self.__feature_val[1]}, leaf]: [{self.__labels_count}]'\n",
    "        if not self.__feature_val:\n",
    "            return f'[ROOT,feature=X{self.__feature}]'\n",
    "        return f'[X{self.__feature_val[0]}={self.__feature_val[1]}, feature=X{self.__feature}]'\n",
    "\n",
    "    @staticmethod\n",
    "    def get_best_split(data, remaining_features, impurity, gain_ratio):\n",
    "        remaining_features = remaining_features.copy()\n",
    "        best_split = (-1, -1)\n",
    "        for feature in remaining_features:\n",
    "            split_score = goodness_of_split(\n",
    "                data=data,\n",
    "                feature=feature,\n",
    "                impurity_func=impurity,\n",
    "                gain_ratio=gain_ratio\n",
    "            )\n",
    "            if split_score > best_split[1]:\n",
    "                best_split = (feature, split_score)\n",
    "\n",
    "        feature = best_split[0]\n",
    "        remaining_features.remove(feature)\n",
    "        return feature, remaining_features\n",
    "\n",
    "    @staticmethod\n",
    "    def is_pure(data):\n",
    "        return len(np.unique(data[:, -1])) == 1\n",
    "\n",
    "    @staticmethod\n",
    "    def reached_max_depth(max_depth):\n",
    "        return max_depth == 0\n",
    "\n",
    "    @staticmethod\n",
    "    def reached_min_sample_split(data, min_samples_split):\n",
    "        return data.shape[0] < min_samples_split\n",
    "\n",
    "    @staticmethod\n",
    "    def get_labels_count(data):\n",
    "        labels, counts = np.unique(data[:, -1], return_counts=True)\n",
    "        return {labels[i]: counts[i] for i in range(len(labels))}"
   ]
  },
  {
   "cell_type": "code",
   "execution_count": 785,
   "metadata": {},
   "outputs": [],
   "source": [
    "def build_tree(data, impurity, gain_ratio=False, min_samples_split=1, max_depth=1000):\n",
    "    \"\"\"\n",
    "    Build a tree using the given impurity measure and training dataset. \n",
    "    You are required to fully grow the tree until all leaves are pure. \n",
    "\n",
    "    Input:\n",
    "    - data: the training dataset.\n",
    "    - impurity: the chosen impurity measure. Notice that you can send a function\n",
    "                as an argument in python.\n",
    "    - gain_ratio: goodness of split or gain ratio flag\n",
    "    - min_samples_split: the minimum number of samples required to split an internal node\n",
    "    - max_depth: the allowable depth of the tree\n",
    "\n",
    "    Output: the root node of the tree.\n",
    "    \"\"\"\n",
    "    root = None\n",
    "    ###########################################################################\n",
    "    # TODO: Implement the function.                                           #\n",
    "    ###########################################################################\n",
    "    root = DecisionNode(\n",
    "        remaining_features=list(range(data.shape[1] - 1)),  # removing last column from feature list\n",
    "        data=data,\n",
    "        impurity=impurity,\n",
    "        gain_ratio=gain_ratio,\n",
    "        min_samples_split=min_samples_split,\n",
    "        max_depth=max_depth\n",
    "    )\n",
    "    ###########################################################################\n",
    "    #                             END OF YOUR CODE                            #\n",
    "    ###########################################################################\n",
    "    return root"
   ]
  },
  {
   "cell_type": "code",
   "execution_count": 786,
   "metadata": {},
   "outputs": [
    {
     "name": "stdout",
     "output_type": "stream",
     "text": [
      "CPU times: user 3min 14s, sys: 2.13 s, total: 3min 16s\n",
      "Wall time: 3min 18s\n"
     ]
    }
   ],
   "source": [
    "%%time\n",
    "# python supports passing a function as an argument to another function.\n",
    "tree_gini = build_tree(data=X_train, impurity=calc_gini)  # gini and goodness of split\n",
    "tree_entropy = build_tree(data=X_train, impurity=calc_entropy)  # entropy and goodness of split\n",
    "tree_entropy_gain_ratio = build_tree(data=X_train, impurity=calc_entropy, gain_ratio=True)  # entropy and gain ratio"
   ]
  },
  {
   "cell_type": "markdown",
   "metadata": {},
   "source": [
    "## Tree evaluation\n",
    "\n",
    "Complete the functions `predict` and `calc_accuracy`. (10 points)"
   ]
  },
  {
   "cell_type": "code",
   "execution_count": 787,
   "metadata": {},
   "outputs": [],
   "source": [
    "def predict(node, instance):\n",
    "    \"\"\"\n",
    "    Predict a given instance using the decision tree\n",
    " \n",
    "    Input:\n",
    "    - root: the root of the decision tree.\n",
    "    - instance: an row vector from the dataset. Note that the last element \n",
    "                of this vector is the label of the instance.\n",
    " \n",
    "    Output: the prediction of the instance.\n",
    "    \"\"\"\n",
    "    return node.predict(instance)"
   ]
  },
  {
   "cell_type": "code",
   "execution_count": 788,
   "metadata": {},
   "outputs": [],
   "source": [
    "def calc_accuracy(node, dataset):\n",
    "    \"\"\"\n",
    "    Predict a given dataset using the decision tree\n",
    " \n",
    "    Input:\n",
    "    - node: a node in the decision tree.\n",
    "    - dataset: the dataset on which the accuracy is evaluated\n",
    " \n",
    "    Output: the accuracy of the decision tree on the given dataset (%).\n",
    "    \"\"\"\n",
    "    predictions = np.apply_along_axis(node.predict, 1, dataset)\n",
    "    y = dataset[:, -1]\n",
    "    correct_predictions = np.count_nonzero(predictions == y)\n",
    "    accuracy = correct_predictions / len(y)\n",
    "    ###########################################################################\n",
    "    #                             END OF YOUR CODE                            #\n",
    "    ###########################################################################\n",
    "    return accuracy"
   ]
  },
  {
   "cell_type": "markdown",
   "metadata": {},
   "source": [
    "After building the three trees using the training set, you should calculate the accuracy on the test set. For each tree print the training and test accuracy. Select the tree that gave you the best test accuracy. For the rest of the exercise, use that tree (when you asked to build another tree use the same impurity function and same gain_ratio flag)."
   ]
  },
  {
   "cell_type": "code",
   "execution_count": 789,
   "metadata": {},
   "outputs": [],
   "source": [
    "def print_scores(nodes: dict):\n",
    "    for name, node in nodes.items():\n",
    "        print(f'{name} train accuracy: ', calc_accuracy(node, X_train))\n",
    "        print(f'{name} test accuracy: ', calc_accuracy(node, X_test), '\\n')"
   ]
  },
  {
   "cell_type": "code",
   "execution_count": 790,
   "outputs": [
    {
     "name": "stdout",
     "output_type": "stream",
     "text": [
      "tree_gini train accuracy:  1.0\n",
      "tree_gini test accuracy:  0.7730182176267848 \n",
      "\n",
      "tree_entropy train accuracy:  1.0\n",
      "tree_entropy test accuracy:  0.7715411127523387 \n",
      "\n",
      "tree_entropy_gain_ratio train accuracy:  1.0\n",
      "tree_entropy_gain_ratio test accuracy:  0.7853274249138356 \n",
      "\n"
     ]
    }
   ],
   "source": [
    "print_scores({\n",
    "    'tree_gini': tree_gini,\n",
    "    'tree_entropy': tree_entropy,\n",
    "    'tree_entropy_gain_ratio': tree_entropy_gain_ratio\n",
    "})"
   ],
   "metadata": {
    "collapsed": false,
    "pycharm": {
     "name": "#%%\n"
    }
   }
  },
  {
   "cell_type": "markdown",
   "source": [
    "tree_entropy_gain_ratio is the best tree"
   ],
   "metadata": {
    "collapsed": false,
    "pycharm": {
     "name": "#%% md\n"
    }
   }
  },
  {
   "cell_type": "markdown",
   "metadata": {},
   "source": [
    "## Depth pruning\n",
    "\n",
    "(15 points)\n",
    "\n",
    "Consider the following max_depth values: [1, 2, 3, 4, 5, 6, 7, 8]. For each value, construct a tree and prune it according to the max_depth value = don't let the tree to grow beyond this depth. Next, calculate the training and testing accuracy.<br>\n",
    "On a single plot, draw the training and testing accuracy as a function of the max_depth. Mark the best result on the graph with red circle."
   ]
  },
  {
   "cell_type": "code",
   "execution_count": 791,
   "metadata": {},
   "outputs": [],
   "source": [
    "#### Your code here ####\n",
    "train_acc = []\n",
    "test_acc = []\n",
    "for max_depth in [1, 2, 3, 4, 5, 6, 7, 8]:\n",
    "    tree = build_tree(data=X_train, impurity=calc_entropy, gain_ratio=True, max_depth=max_depth)\n",
    "    train_acc.append(calc_accuracy(tree, X_train))\n",
    "    test_acc.append(calc_accuracy(tree, X_test))"
   ]
  },
  {
   "cell_type": "code",
   "execution_count": 792,
   "outputs": [],
   "source": [
    "def plot_scores(train_acc, test_acc, hyperparam, x, sizes=None):\n",
    "    import seaborn as sns\n",
    "    fig, ax = plt.subplots(1, 1, figsize=(12,7))\n",
    "    sns.lineplot(y=train_acc, x=x, ax=ax, label='train')\n",
    "    sns.lineplot(y=test_acc, x=x, ax=ax, label='test')\n",
    "    if sizes:\n",
    "        ax2 = ax.twinx()\n",
    "        sns.scatterplot(y=sizes, x=x, ax=ax2, label='train tree size', color='red', legend=False)\n",
    "        ax2.legend(loc='lower left')\n",
    "    ax.set(title=f'train/test accuracy by {hyperparam} tunning', xlabel=hyperparam, ylabel='accuracy')\n",
    "    ax.scatter(x[test_acc.index(max(test_acc))], max(test_acc), marker=\"o\", c=\"red\", s=400, lw=4, alpha=0.1)\n",
    "    # ax.legend();"
   ],
   "metadata": {
    "collapsed": false,
    "pycharm": {
     "name": "#%%\n"
    }
   }
  },
  {
   "cell_type": "code",
   "execution_count": 793,
   "outputs": [
    {
     "data": {
      "text/plain": "<Figure size 864x504 with 1 Axes>",
      "image/png": "[encoded data removed]"
     },
     "metadata": {
      "needs_background": "light"
     },
     "output_type": "display_data"
    }
   ],
   "source": [
    "plot_scores(train_acc, test_acc, 'max_depth', x=np.arange(1,9))"
   ],
   "metadata": {
    "collapsed": false,
    "pycharm": {
     "name": "#%%\n"
    }
   }
  },
  {
   "cell_type": "markdown",
   "metadata": {},
   "source": [
    "## Min Samples Split\n",
    "\n",
    "(15 points)\n",
    "\n",
    "Consider the following min_samples_split values: [1, 5, 10, 20, 50]. For each value, construct a tree and prune it according to the min_samples_split value = don't split a node if the number of sample in it is less or equal to the min_samples_split value. Next, calculate the training and testing accuracy.<br>\n",
    "On a single plot, draw the training and testing accuracy as a function of the min_samples_split. Mark the best result on the graph with red circle. (make sure that the x-axis ticks represent the values of min_samples_split)"
   ]
  },
  {
   "cell_type": "code",
   "execution_count": 794,
   "metadata": {},
   "outputs": [],
   "source": [
    "#### Your code here ####\n",
    "train_acc = []\n",
    "test_acc = []\n",
    "for min_samples_split in [1, 5, 10, 20, 50]:\n",
    "    tree = build_tree(data=X_train, impurity=calc_entropy, gain_ratio=True, min_samples_split=min_samples_split)\n",
    "    train_acc.append(calc_accuracy(tree, X_train))\n",
    "    test_acc.append(calc_accuracy(tree, X_test))"
   ]
  },
  {
   "cell_type": "code",
   "execution_count": 795,
   "metadata": {},
   "outputs": [
    {
     "data": {
      "text/plain": "<Figure size 864x504 with 1 Axes>",
      "image/png": "[encoded data removed]"
     },
     "metadata": {
      "needs_background": "light"
     },
     "output_type": "display_data"
    }
   ],
   "source": [
    "plot_scores(train_acc, test_acc, 'min_samples_split', x=[1, 5, 10, 20, 50])"
   ]
  },
  {
   "cell_type": "markdown",
   "source": [
    "Build the best 2 trees:\n",
    "1. tree_max_depth - the best tree according to max_depth pruning\n",
    "1. tree_min_samples_split - the best tree according to min_samples_split pruning"
   ],
   "metadata": {
    "collapsed": false
   }
  },
  {
   "cell_type": "code",
   "execution_count": 796,
   "outputs": [],
   "source": [
    "#### Your code here ####\n",
    "tree_max_depth = build_tree(data=X_train, impurity=calc_entropy, gain_ratio=True, max_depth=4)\n",
    "tree_min_samples_split = build_tree(data=X_train, impurity=calc_entropy, gain_ratio=True, min_samples_split=50)"
   ],
   "metadata": {
    "collapsed": false,
    "pycharm": {
     "name": "#%%\n"
    }
   }
  },
  {
   "cell_type": "markdown",
   "metadata": {},
   "source": [
    "## Number of Nodes\n",
    "\n",
    "(5 points)\n",
    "\n",
    "Complete the function counts_nodes and print the number of nodes in each tree and print the number of nodes of the two trees above"
   ]
  },
  {
   "cell_type": "code",
   "execution_count": 797,
   "metadata": {},
   "outputs": [],
   "source": [
    "def count_nodes(node: DecisionNode):\n",
    "    \"\"\"\n",
    "    Count the number of node in a given tree\n",
    " \n",
    "    Input:\n",
    "    - node: a node in the decision tree.\n",
    " \n",
    "    Output: the number of node in the tree.\n",
    "    \"\"\"\n",
    "    ###########################################################################\n",
    "    # TODO: Implement the function.                                           #\n",
    "    ###########################################################################\n",
    "    if node.is_leaf:\n",
    "        return 1\n",
    "    else:\n",
    "        return 1 + sum([count_nodes(c) for c in node.children])\n",
    "    ###########################################################################\n",
    "    #                             END OF YOUR CODE                            #\n",
    "    ###########################################################################\n"
   ]
  },
  {
   "cell_type": "code",
   "execution_count": 798,
   "outputs": [
    {
     "name": "stdout",
     "output_type": "stream",
     "text": [
      "tree_max_depth node count: 205\n"
     ]
    }
   ],
   "source": [
    "print('tree_max_depth node count:', count_nodes(tree_max_depth))"
   ],
   "metadata": {
    "collapsed": false,
    "pycharm": {
     "name": "#%%\n"
    }
   }
  },
  {
   "cell_type": "code",
   "execution_count": 799,
   "outputs": [
    {
     "name": "stdout",
     "output_type": "stream",
     "text": [
      "tree_min_samples_split node count 349\n"
     ]
    }
   ],
   "source": [
    "print('tree_min_samples_split node count', count_nodes(tree_min_samples_split))"
   ],
   "metadata": {
    "collapsed": false,
    "pycharm": {
     "name": "#%%\n"
    }
   }
  },
  {
   "cell_type": "markdown",
   "metadata": {},
   "source": [
    "## Print the tree\n",
    "\n",
    "Complete the function `print_tree`. Your tree should be visualized clearly. You can use the following example as a reference:\n",
    "```\n",
    "[ROOT, feature=X0],\n",
    "  [X0=a, feature=X2]\n",
    "    [X2=c, leaf]: [{1.0: 10}]\n",
    "    [X2=d, leaf]: [{0.0: 10}]\n",
    "  [X0=y, feature=X5], \n",
    "    [X5=a, leaf]: [{1.0: 5}]\n",
    "    [X5=s, leaf]: [{0.0: 10}]\n",
    "  [X0=e, leaf]: [{0.0: 25, 1.0: 50}]\n",
    "```\n",
    "In each brackets:\n",
    "* The first argument is the parent feature with the value that led to current node\n",
    "* The second argument is the selected feature of the current node\n",
    "* If the current node is a leaf, you need to print also the labels and their counts\n",
    "\n",
    "(5 points)"
   ]
  },
  {
   "cell_type": "code",
   "execution_count": 800,
   "metadata": {},
   "outputs": [],
   "source": [
    "# you can change the function signeture\n",
    "def print_tree(node: DecisionNode, tab=0):\n",
    "    '''\n",
    "    prints the tree according to the example above\n",
    "\n",
    "    Input:\n",
    "    - node: a node in the decision tree\n",
    "\n",
    "    This function has no return value\n",
    "    '''\n",
    "    ###########################################################################\n",
    "    # TODO: Implement the function.                                           #\n",
    "    ###########################################################################\n",
    "    if node.is_leaf:\n",
    "        print(f'{\"  \" * tab}{node}')\n",
    "    else:\n",
    "        print(f'{\"  \" * tab}{node}')\n",
    "        for child in node.children:\n",
    "            print_tree(child, tab=tab+1)\n",
    "    ###########################################################################\n",
    "    #                             END OF YOUR CODE                            #\n",
    "    ###########################################################################"
   ]
  },
  {
   "cell_type": "markdown",
   "metadata": {},
   "source": [
    "print the tree with the best test accuracy and with less than 50 nodes (from the two pruning methods)"
   ]
  },
  {
   "cell_type": "code",
   "execution_count": 801,
   "outputs": [],
   "source": [
    "train_acc = []\n",
    "test_acc = []\n",
    "sizes = []\n",
    "for min_samples_split in np.arange(150, 350, 25):\n",
    "    # for max_depth in [2, 3, 4, 5, 6, 7, 8, 9]:\n",
    "    tree = build_tree(data=X_train, impurity=calc_entropy, gain_ratio=True, min_samples_split=min_samples_split, max_depth=4)\n",
    "    train_acc.append(calc_accuracy(tree, X_train))\n",
    "    test_acc.append(calc_accuracy(tree, X_test))\n",
    "    sizes.append(count_nodes(tree))"
   ],
   "metadata": {
    "collapsed": false,
    "pycharm": {
     "name": "#%%\n"
    }
   }
  },
  {
   "cell_type": "code",
   "execution_count": 802,
   "outputs": [
    {
     "data": {
      "text/plain": "<Figure size 864x504 with 2 Axes>",
      "image/png": "[encoded data removed]"
     },
     "metadata": {
      "needs_background": "light"
     },
     "output_type": "display_data"
    }
   ],
   "source": [
    "plot_scores(train_acc, test_acc, 'min_samples_split', x=np.arange(150, 350, 25), sizes=sizes)"
   ],
   "metadata": {
    "collapsed": false,
    "pycharm": {
     "name": "#%%\n"
    }
   }
  },
  {
   "cell_type": "code",
   "execution_count": 803,
   "outputs": [
    {
     "data": {
      "text/plain": "49"
     },
     "execution_count": 803,
     "metadata": {},
     "output_type": "execute_result"
    }
   ],
   "source": [
    "tree = build_tree(data=X_train, impurity=calc_entropy, gain_ratio=True, min_samples_split=225, max_depth=4)\n",
    "count_nodes(tree)"
   ],
   "metadata": {
    "collapsed": false,
    "pycharm": {
     "name": "#%%\n"
    }
   }
  },
  {
   "cell_type": "code",
   "execution_count": 804,
   "outputs": [
    {
     "name": "stdout",
     "output_type": "stream",
     "text": [
      "[ROOT,feature=X4]\n",
      "  [X4=l, feature=X1]\n",
      "    [X1=s, leaf]: [{'e': 94, 'p': 16}]\n",
      "    [X1=y, leaf]: [{'e': 159, 'p': 10}]\n",
      "    [X1=f, leaf]: [{'e': 19, 'p': 1}]\n",
      "  [X4=y, feature=X1]\n",
      "    [X1=y, leaf]: [{'e': 31, 'p': 188}]\n",
      "    [X1=s, leaf]: [{'e': 18, 'p': 194}]\n",
      "  [X4=s, feature=X13]\n",
      "    [X13=p, leaf]: [{'e': 12, 'p': 190}]\n",
      "    [X13=w, leaf]: [{'e': 26, 'p': 190}]\n",
      "  [X4=a, feature=X2]\n",
      "    [X2=n, leaf]: [{'e': 33, 'p': 5}]\n",
      "    [X2=y, leaf]: [{'e': 133, 'p': 19}]\n",
      "    [X2=w, leaf]: [{'e': 107, 'p': 7}]\n",
      "  [X4=n, feature=X7]\n",
      "    [X7=b, feature=X18]\n",
      "      [X18=n, feature=X15]\n",
      "        [X15=w, leaf]: [{'e': 850, 'p': 100}]\n",
      "        [X15=n, leaf]: [{'e': 14, 'p': 4}]\n",
      "        [X15=o, leaf]: [{'e': 18, 'p': 1}]\n",
      "      [X18=w, feature=X13]\n",
      "        [X13=w, leaf]: [{'e': 295, 'p': 22}]\n",
      "        [X13=e, leaf]: [{'e': 62, 'p': 9}]\n",
      "        [X13=n, leaf]: [{'e': 12, 'p': 2}]\n",
      "      [X18=k, feature=X11]\n",
      "        [X11=s, leaf]: [{'e': 717, 'p': 74}]\n",
      "        [X11=f, leaf]: [{'e': 126, 'p': 19}]\n",
      "      [X18=y, leaf]: [{'e': 35, 'p': 3}]\n",
      "      [X18=o, leaf]: [{'e': 28, 'p': 4}]\n",
      "      [X18=r, leaf]: [{'e': 6, 'p': 46}]\n",
      "      [X18=b, leaf]: [{'e': 34, 'p': 2}]\n",
      "    [X7=n, leaf]: [{'e': 135, 'p': 58}]\n",
      "  [X4=f, feature=X10]\n",
      "    [X10=k, feature=X11]\n",
      "      [X11=k, feature=X7]\n",
      "        [X7=b, leaf]: [{'e': 112, 'p': 854}]\n",
      "        [X7=n, leaf]: [{'e': 6, 'p': 97}]\n",
      "      [X11=s, leaf]: [{'e': 16, 'p': 86}]\n",
      "    [X10=s, feature=X19]\n",
      "      [X19=v, feature=X11]\n",
      "        [X11=s, leaf]: [{'e': 10, 'p': 124}]\n",
      "        [X11=k, leaf]: [{'e': 6, 'p': 107}]\n",
      "        [X11=f, leaf]: [{'e': 4, 'p': 24}]\n",
      "      [X19=s, leaf]: [{'e': 2, 'p': 55}]\n",
      "    [X10=f, leaf]: [{'e': 14, 'p': 91}]\n",
      "  [X4=p, leaf]: [{'e': 8, 'p': 175}]\n",
      "  [X4=m, leaf]: [{'e': 2, 'p': 25}]\n",
      "  [X4=c, leaf]: [{'e': 10, 'p': 137}]\n"
     ]
    }
   ],
   "source": [
    "print_tree(tree)"
   ],
   "metadata": {
    "collapsed": false,
    "pycharm": {
     "name": "#%%\n"
    }
   }
  }
 ],
 "metadata": {
  "celltoolbar": "Create Assignment",
  "kernelspec": {
   "display_name": "Python 3",
   "language": "python",
   "name": "python3"
  },
  "language_info": {
   "codemirror_mode": {
    "name": "ipython",
    "version": 3
   },
   "file_extension": ".py",
   "mimetype": "text/x-python",
   "name": "python",
   "nbconvert_exporter": "python",
   "pygments_lexer": "ipython3",
   "version": "3.8.8"
  }
 },
 "nbformat": 4,
 "nbformat_minor": 4
}